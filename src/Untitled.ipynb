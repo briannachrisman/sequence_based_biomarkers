{
 "cells": [
  {
   "cell_type": "code",
   "execution_count": 1,
   "metadata": {},
   "outputs": [],
   "source": [
    "import pandas as pd\n",
    "import numpy as np\n",
    "import sys\n",
    "\n",
    "study = 'yogurt'\n",
    "msa_method = 'DECIPHER'\n",
    "order = 3\n",
    "\n"
   ]
  },
  {
   "cell_type": "code",
   "execution_count": 106,
   "metadata": {},
   "outputs": [],
   "source": [
    "taxa_vs_variants = pd.read_csv('/scratch/groups/dpwall/personal/briannac/sequence_based_biomarkers/data/' + study + '/' + str(msa_method) + '_taxa_vs_variants_unique.tsv', sep='\\t')\n",
    "taxa_vs_variants.columns = ['ASV'] + [i for i in range(len(taxa_vs_variants.columns)-1)]\n",
    "biomarker_seqs = set()\n",
    "unique_idx = [] \n",
    "\n",
    "for i,b in enumerate(biomarkers.iterrows()):\n",
    "    if i > 100000: break\n",
    "    if (i%10000)==0:\n",
    "        print(i/len(biomarkers), \" way done...\")\n",
    "    biomarker_seq = tuple(sum([taxa_vs_variants[b[1][order_i]].values for order_i in range(order)])==order)\n",
    "    if biomarker_seq not in biomarker_seqs:\n",
    "        biomarker_seqs = biomarker_seqs.union(set([biomarker_seq]))\n",
    "        unique_idx = unique_idx + [i]"
   ]
  },
  {
   "cell_type": "code",
   "execution_count": null,
   "metadata": {},
   "outputs": [],
   "source": [
    "a = np.load('/scratch/groups/dpwall/personal/briannac/sequence_based_biomarkers/results/person_biomarker/' + study  + \n",
    "                                  '_'  + str(msa_method) +  '_person_variant' + str(order) + '_condensed.npy')"
   ]
  },
  {
   "cell_type": "code",
   "execution_count": 181,
   "metadata": {},
   "outputs": [
    {
     "name": "stdout",
     "output_type": "stream",
     "text": [
      "0.0  way done...\n",
      "0.00024670212302472394  way done...\n",
      "0.0004934042460494479  way done...\n",
      "0.0007401063690741719  way done...\n"
     ]
    }
   ],
   "source": [
    "biomarker_seqs = set()\n",
    "biomarkers_seqs_list = []\n",
    "unique_idx = [] \n",
    "\n",
    "for i,b in enumerate(biomarkers.iterrows()):\n",
    "    if i > 30000: break\n",
    "    if (i%10000)==0:\n",
    "        print(i/len(biomarkers), \" way done...\")\n",
    "    biomarker_seq = tuple(sum([taxa_vs_variants[b[1][order_i]].values for order_i in range(order)])==order)\n",
    "    if biomarker_seq not in biomarker_seqs:\n",
    "        biomarker_seqs = biomarker_seqs.union(set([biomarker_seq]))\n",
    "        biomarkers_seqs_list.append(biomarker_seq)\n",
    "        unique_idx = unique_idx + [i]\n",
    "#biomarker_seq = biomarker_seq[unique_idx,:]"
   ]
  },
  {
   "cell_type": "code",
   "execution_count": null,
   "metadata": {},
   "outputs": [],
   "source": [
    "person_variant = np.array(np.load('/scratch/groups/dpwall/personal/briannac/sequence_based_biomarkers/results/person_biomarker/' + study  + \n",
    "                                  '_'  + str(msa_method) +  '_person_variant' + str(order) + '_condensed.npy'))"
   ]
  },
  {
   "cell_type": "code",
   "execution_count": 189,
   "metadata": {},
   "outputs": [
    {
     "data": {
      "text/plain": [
       "array([[False, False, False, ..., False, False, False],\n",
       "       [False, False, False, ..., False, False, False],\n",
       "       [False, False, False, ..., False, False, False]])"
      ]
     },
     "execution_count": 189,
     "metadata": {},
     "output_type": "execute_result"
    }
   ],
   "source": [
    "np.load('/scratch/groups/dpwall/personal/briannac/test.npy')"
   ]
  },
  {
   "cell_type": "code",
   "execution_count": null,
   "metadata": {},
   "outputs": [],
   "source": []
  }
 ],
 "metadata": {
  "kernelspec": {
   "display_name": "Python 3",
   "language": "python",
   "name": "python3"
  },
  "language_info": {
   "codemirror_mode": {
    "name": "ipython",
    "version": 3
   },
   "file_extension": ".py",
   "mimetype": "text/x-python",
   "name": "python",
   "nbconvert_exporter": "python",
   "pygments_lexer": "ipython3",
   "version": "3.6.1"
  }
 },
 "nbformat": 4,
 "nbformat_minor": 2
}
